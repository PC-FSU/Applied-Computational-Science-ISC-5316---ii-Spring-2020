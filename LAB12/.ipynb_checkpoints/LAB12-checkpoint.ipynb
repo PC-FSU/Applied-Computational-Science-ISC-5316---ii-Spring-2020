{
 "cells": [
  {
   "cell_type": "code",
   "execution_count": 1,
   "metadata": {},
   "outputs": [],
   "source": [
    "import numpy as np\n",
    "import matplotlib.pyplot as plt"
   ]
  },
  {
   "cell_type": "markdown",
   "metadata": {},
   "source": [
    "### Part A"
   ]
  },
  {
   "cell_type": "code",
   "execution_count": 102,
   "metadata": {},
   "outputs": [],
   "source": [
    "def f(x):\n",
    "    return np.power(np.pi,2)*np.sin(np.pi*x)\n",
    "\n",
    "def q(x):\n",
    "    return 0\n",
    "\n",
    "def p(x):\n",
    "    return 1\n",
    "\n",
    "\n",
    "class Assembly_algorithum:\n",
    "    \n",
    "    Interval = []\n",
    "    \n",
    "    def __init__(self,N,f,q,p):\n",
    "        self.N = N\n",
    "        self.f = f\n",
    "        self.q = q\n",
    "        self.p = p\n",
    "        self.M = np.zeros((N-1,N-1))\n",
    "        self.S = np.zeros((N-1,N-1))\n",
    "        self.f = np.zeros((N-1,1))\n",
    "        self.h = 1/self.N\n",
    "    \n",
    "    def show(self):\n",
    "        print(self.M.shape,self.f.shape,self.S.shape)\n",
    "    \n",
    "    def get_basis(self):\n",
    "        self.solve()\n",
    "        x = np.linspace(0,1,50)\n",
    "        for i in range(self.N):\n",
    "            print(Interval[i])\n",
    "   \n",
    "                     \n",
    "    \n",
    "            \n",
    "    \n",
    "    "
   ]
  },
  {
   "cell_type": "code",
   "execution_count": 103,
   "metadata": {},
   "outputs": [],
   "source": [
    "obj = Assembly_algorithum(4,f,q,p)\n",
    "#obj.get_basis()"
   ]
  },
  {
   "cell_type": "code",
   "execution_count": 104,
   "metadata": {},
   "outputs": [],
   "source": [
    "def geometry(Number_of_element):\n",
    "    x_coord = [i/Number_of_element for i in range(Number_of_element+1)]\n",
    "    Nodes = [(i,i-1,i) for i in range(1,Number_of_element+1)]\n",
    "    Unknow_Number = [i for i in range(1,Number_of_element+1)]\n",
    "    Quad_Point  = [(x_coord[i] + x_coord[i-1])/2 for i in range(1,Number_of_element+1)]\n",
    "    Quad_weight = [(x_coord[i] - x_coord[i-1]) for i in range(1,Number_of_element+1)]\n",
    "    return x_coord,Nodes,Unknow_Number,Quad_Point,Quad_weight\n",
    "     "
   ]
  },
  {
   "cell_type": "code",
   "execution_count": 105,
   "metadata": {},
   "outputs": [],
   "source": [
    "x_coord,Nodes,Unknow_Number,Quad_Point,Quad_weight = geometry(4)"
   ]
  },
  {
   "cell_type": "code",
   "execution_count": 106,
   "metadata": {},
   "outputs": [
    {
     "data": {
      "text/plain": [
       "([0.0, 0.25, 0.5, 0.75, 1.0],\n",
       " [(1, 0, 1), (2, 1, 2), (3, 2, 3), (4, 3, 4)],\n",
       " [1, 2, 3, 4],\n",
       " [0.125, 0.375, 0.625, 0.875],\n",
       " [0.25, 0.25, 0.25, 0.25])"
      ]
     },
     "execution_count": 106,
     "metadata": {},
     "output_type": "execute_result"
    }
   ],
   "source": [
    "geometry(4)"
   ]
  },
  {
   "cell_type": "code",
   "execution_count": 107,
   "metadata": {},
   "outputs": [],
   "source": [
    "def pw_linear_basics_function(x,n,x_coord):\n",
    "    h = 1/(len(x_coord)-1)\n",
    "    \n",
    "    if(x_coord[n-1] <= x and x < x_coord[n]):\n",
    "        return (x - x_coord[n-1])/h, -1/h\n",
    "    \n",
    "    if(x_coord[n] <= x and x < x_coord[n+1]):\n",
    "        return (x_coord[n+1] - x)/h, 1/h\n",
    "    \n",
    "    else:\n",
    "        return 0,0\n",
    "    "
   ]
  },
  {
   "cell_type": "code",
   "execution_count": 135,
   "metadata": {},
   "outputs": [],
   "source": [
    "def system_assembly(N,f,q,p):\n",
    "    M = np.zeros((N-1,N-1))\n",
    "    S = np.zeros((N-1,N-1))\n",
    "    F = np.zeros((N-1,1))\n",
    "    h = 1/N\n",
    "    Interval = [(i/N,((i+1)/N)) for i in range(N)]\n",
    "    x_coord,Nodes,Unknow_Number,Quad_Point,Quad_weight = geometry(N)\n",
    "    #print(x_coord,Nodes,Unknow_Number,Quad_Point,Quad_weight)\n",
    "    \n",
    "    for each_element,value in enumerate(Interval):\n",
    "        print(value,each_element)\n",
    "        Bases  = Nodes[each_element][1:]\n",
    "        x_l    = Quad_Point[each_element]\n",
    "        w_l    = Quad_weight[each_element]\n",
    "        L      = int(x_l)\n",
    "        \n",
    "        for l in range(L):\n",
    "            for i in Bases:\n",
    "                F[i] = F[bases] + f(x_l[l])*w_l[l]*pw_linear_basics_function(x_l[l],basis,x_coord)\n",
    "                \n",
    "                for j in Bases:\n",
    "                    M[i][j] = M[i][j] + q(x_l[l])*w_l[l]*pw_linear_basics_function(x_l[l],basis,x_coord)\n",
    "                    S[i][j] = S[i][j] + p(x_l[l])*w_l[l]*pw_linear_basics_function(x_l[l],basis,x_coord)\n",
    "    return M,S,F   "
   ]
  },
  {
   "cell_type": "code",
   "execution_count": 136,
   "metadata": {},
   "outputs": [
    {
     "name": "stdout",
     "output_type": "stream",
     "text": [
      "(0.0, 0.125) 0\n",
      "(0.125, 0.25) 1\n",
      "(0.25, 0.375) 2\n",
      "(0.375, 0.5) 3\n",
      "(0.5, 0.625) 4\n",
      "(0.625, 0.75) 5\n",
      "(0.75, 0.875) 6\n",
      "(0.875, 1.0) 7\n"
     ]
    }
   ],
   "source": [
    "M,S,F = system_assembly(8,f,q,p)"
   ]
  },
  {
   "cell_type": "code",
   "execution_count": 137,
   "metadata": {},
   "outputs": [
    {
     "data": {
      "text/plain": [
       "array([[0., 0., 0., 0., 0., 0., 0.],\n",
       "       [0., 0., 0., 0., 0., 0., 0.],\n",
       "       [0., 0., 0., 0., 0., 0., 0.],\n",
       "       [0., 0., 0., 0., 0., 0., 0.],\n",
       "       [0., 0., 0., 0., 0., 0., 0.],\n",
       "       [0., 0., 0., 0., 0., 0., 0.],\n",
       "       [0., 0., 0., 0., 0., 0., 0.]])"
      ]
     },
     "execution_count": 137,
     "metadata": {},
     "output_type": "execute_result"
    }
   ],
   "source": [
    "M"
   ]
  },
  {
   "cell_type": "code",
   "execution_count": null,
   "metadata": {},
   "outputs": [],
   "source": []
  },
  {
   "cell_type": "code",
   "execution_count": null,
   "metadata": {},
   "outputs": [],
   "source": []
  }
 ],
 "metadata": {
  "kernelspec": {
   "display_name": "Python 3",
   "language": "python",
   "name": "python3"
  },
  "language_info": {
   "codemirror_mode": {
    "name": "ipython",
    "version": 3
   },
   "file_extension": ".py",
   "mimetype": "text/x-python",
   "name": "python",
   "nbconvert_exporter": "python",
   "pygments_lexer": "ipython3",
   "version": "3.7.3"
  }
 },
 "nbformat": 4,
 "nbformat_minor": 2
}
