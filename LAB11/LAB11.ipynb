{
 "cells": [
  {
   "cell_type": "code",
   "execution_count": 1,
   "metadata": {},
   "outputs": [],
   "source": [
    "import numpy as np"
   ]
  },
  {
   "cell_type": "code",
   "execution_count": 2,
   "metadata": {},
   "outputs": [
    {
     "name": "stdout",
     "output_type": "stream",
     "text": [
      " Volume in drive C has no label.\n",
      " Volume Serial Number is BCBF-D475\n",
      "\n",
      " Directory of C:\\Users\\18503\\Dropbox\\Course\\acs2\\LAB\\LAB11\n",
      "\n",
      "04/10/2020  03:01 AM    <DIR>          .\n",
      "04/10/2020  03:01 AM    <DIR>          ..\n",
      "04/02/2020  09:15 PM    <DIR>          .ipynb_checkpoints\n",
      "04/04/2020  09:09 PM             2,968 0.txt\n",
      "04/04/2020  09:09 PM             2,968 1.txt\n",
      "04/04/2020  09:09 PM             1,496 2h.txt\n",
      "04/04/2020  09:09 PM            79,480 a.out\n",
      "04/04/2020  09:09 PM               760 a_2h.txt\n",
      "04/04/2020  09:09 PM             1,496 a_h.txt\n",
      "04/04/2020  09:09 PM             2,968 h.txt\n",
      "04/02/2020  10:15 PM             2,047 LAB11.ipynb\n",
      "04/04/2020  01:23 AM           194,241 lab11.pdf\n",
      "04/04/2020  09:18 PM           515,471 lab11.zip\n",
      "04/12/2020  05:53 PM            10,324 main.cpp\n",
      "04/04/2020  09:09 PM            46,024 Norm.txt\n",
      "04/04/2020  09:09 PM            23,024 Norm_2.txt\n",
      "04/04/2020  08:58 PM            15,211 part_5_a_1.png\n",
      "04/04/2020  08:47 PM            53,901 part_a.png\n",
      "04/04/2020  08:47 PM            80,067 part_b.png\n",
      "04/04/2020  08:48 PM            50,652 part_c.png\n",
      "04/04/2020  09:17 PM               384 readme.txt\n",
      "04/04/2020  09:11 PM           260,848 report.docx\n",
      "04/04/2020  09:12 PM           251,927 report-converted.pdf\n",
      "04/04/2020  06:53 PM             3,131 temp.cpp\n",
      "              21 File(s)      1,599,388 bytes\n",
      "               3 Dir(s)  139,700,969,472 bytes free\n"
     ]
    }
   ],
   "source": [
    "ls"
   ]
  },
  {
   "cell_type": "code",
   "execution_count": 3,
   "metadata": {},
   "outputs": [],
   "source": [
    "file0 = np.loadtxt(\"0.txt\")\n",
    "file1 = np.loadtxt(\"1.txt\")"
   ]
  },
  {
   "cell_type": "code",
   "execution_count": null,
   "metadata": {},
   "outputs": [],
   "source": []
  },
  {
   "cell_type": "code",
   "execution_count": null,
   "metadata": {},
   "outputs": [],
   "source": []
  }
 ],
 "metadata": {
  "kernelspec": {
   "display_name": "Python 3",
   "language": "python",
   "name": "python3"
  },
  "language_info": {
   "codemirror_mode": {
    "name": "ipython",
    "version": 3
   },
   "file_extension": ".py",
   "mimetype": "text/x-python",
   "name": "python",
   "nbconvert_exporter": "python",
   "pygments_lexer": "ipython3",
   "version": "3.7.3"
  }
 },
 "nbformat": 4,
 "nbformat_minor": 2
}
