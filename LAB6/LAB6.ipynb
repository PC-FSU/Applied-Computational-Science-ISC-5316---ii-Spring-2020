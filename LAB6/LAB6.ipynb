{
 "cells": [
  {
   "cell_type": "code",
   "execution_count": 1,
   "metadata": {},
   "outputs": [],
   "source": [
    "import numpy as np"
   ]
  },
  {
   "cell_type": "markdown",
   "metadata": {},
   "source": [
    "To get Initial Matrix $B,N,C_N,C_B$"
   ]
  },
  {
   "cell_type": "code",
   "execution_count": 2,
   "metadata": {},
   "outputs": [],
   "source": [
    "def get_intital(A,C,Initial_col):\n",
    "    m,n = A.shape\n",
    "    selected_col = Initial_col\n",
    "    Not_selected_col  = np.setdiff1d(np.linspace(0,n-1,n) , Initial_col).astype(int)\n",
    "    \n",
    "    #B0 = A[:,selected_col].copy()\n",
    "    #N0 = A[:,Not_selected_col].copy()\n",
    "    \n",
    "    B0 = np.squeeze(np.array([A[:,i] for i in Initial_col])).T\n",
    "    N0 = np.squeeze(np.array([A[:,i] for i in Not_selected_col])).T\n",
    "    \n",
    "    C_b0 = np.squeeze(np.array([C.T[:,i] for i in Initial_col])).T\n",
    "    C_n0 = np.squeeze(np.array([C.T[:,i] for i in Not_selected_col])).T\n",
    "    \n",
    "    #print(B0,N0,C_b0,C_n0)\n",
    "    \n",
    "    return B0,N0,C_b0,C_n0"
   ]
  },
  {
   "cell_type": "markdown",
   "metadata": {},
   "source": [
    "For Z"
   ]
  },
  {
   "cell_type": "code",
   "execution_count": 3,
   "metadata": {},
   "outputs": [],
   "source": [
    "def get_z(B,C_b):\n",
    "    z = np.linalg.solve(B.T,C_b)\n",
    "    return z"
   ]
  },
  {
   "cell_type": "markdown",
   "metadata": {},
   "source": [
    "For r"
   ]
  },
  {
   "cell_type": "code",
   "execution_count": 4,
   "metadata": {},
   "outputs": [],
   "source": [
    "def get_r(C_n,N,z):\n",
    "    r = C_n - np.dot(N.T,z)\n",
    "    return r"
   ]
  },
  {
   "cell_type": "markdown",
   "metadata": {},
   "source": [
    "To calculate leaving variable"
   ]
  },
  {
   "cell_type": "code",
   "execution_count": 5,
   "metadata": {},
   "outputs": [],
   "source": [
    "def leaving_var(r):\n",
    "    res = np.argmin(r)\n",
    "    return res"
   ]
  },
  {
   "cell_type": "markdown",
   "metadata": {},
   "source": [
    "To calculate entering variable"
   ]
  },
  {
   "cell_type": "code",
   "execution_count": 378,
   "metadata": {},
   "outputs": [],
   "source": [
    "def enterning_var(B,b,N,i,m):\n",
    "    x_b = np.linalg.solve(B,b).reshape(-1,1)\n",
    "    w = np.linalg.solve(B,N[:,i].copy()).reshape(-1,1)\n",
    "    #print(\"X_b : \",x_b)\n",
    "    #print(\"W : \",w)\n",
    "    \n",
    "    \n",
    "    temp = np.array([0]*len(N)).astype(float)\n",
    "    temp = np.divide(x_b,w)\n",
    "    \n",
    "    # to calculate the least positive value of x_b/w\n",
    "    temp = np.array(list(zip(temp,[i for i in range(len(temp))])))\n",
    "    temp = temp[temp[:,0]>0]\n",
    "    temp = temp[temp[:,0].argsort()]\n",
    "    res = temp[0][1]\n",
    "    return int(res)"
   ]
  },
  {
   "cell_type": "markdown",
   "metadata": {},
   "source": [
    "Final Solver"
   ]
  },
  {
   "cell_type": "code",
   "execution_count": 379,
   "metadata": {},
   "outputs": [],
   "source": [
    "def Solver(A,C,b,Initial_col):\n",
    "    \n",
    "    m,n = A.shape\n",
    "    Counts = True\n",
    "    Track_col = []\n",
    "    Track_temp = [j for j in range(n)]\n",
    "    #Get Initials\n",
    "    B,N,C_b,C_n = get_intital(A,C,Initial_col)\n",
    "    Iterations = 0\n",
    "    \n",
    "    while(Counts):\n",
    "        z = get_z(B,C_b)\n",
    "        r = get_r(C_n,N,z)\n",
    "        if(np.all(r>0)):\n",
    "            Counts = False\n",
    "            break\n",
    "        #Calculate leaving and entering variable\n",
    "        i = leaving_var(r)\n",
    "        k = enterning_var(B,b,N,i,m)\n",
    "        \n",
    "        #Swap columns in B and N\n",
    "        temp = 0\n",
    "        temp = B[:,k].copy()\n",
    "        B[:,k] = N[:,i]\n",
    "        N[:,i] = temp\n",
    "        \n",
    "        #Swap element in C\n",
    "        temp1 = 0\n",
    "        temp1 = C_b[k].copy()\n",
    "        C_b[k] = C_n[i]\n",
    "        C_n[i] = temp1\n",
    "                \n",
    "        #keep track of columns\n",
    "        temp2 = Track_temp[i+m]\n",
    "        Track_temp[i+m] = Track_temp[k]\n",
    "        Track_temp[k] = temp2\n",
    "        Track_col.append(Track_temp)\n",
    "        Iterations = Iterations + 1\n",
    "        print(\"For \" +str(Iterations)+\"th Iteration B :\\n\",B, \"\\n\")\n",
    "    \n",
    "        print(\"For \" +str(Iterations)+\"th Iteration N :\\n\",N,\"\\n\")\n",
    "\n",
    "        print(\"For \" +str(Iterations)+\"th Iteration r :\\n\",r,\"\\n\")\n",
    "    \n",
    "    \n",
    "    #Fianl Answer\n",
    "    X_B = np.linalg.solve(B,b)\n",
    "    Final_X = [0]*(n)\n",
    "    if(len(Track_col)>0): \n",
    "        for index,value in enumerate(X_B):\n",
    "            Final_X[Track_col[-1][index]] = value.item(0)\n",
    "        Final_X = np.array(Final_X).reshape(-1,1)\n",
    "    else:\n",
    "        for index,value in enumerate(Initial_col):\n",
    "            Final_X[value] = X_B[index].item(0)\n",
    "    \n",
    "    cost = np.dot(C.T,Final_X)\n",
    "    cost = cost.item(0)\n",
    "    print(\"Value of X : \\n\",Final_X,\"\\n\")\n",
    "    print(\"Cost : \\n\",cost,\"\\n\")\n",
    "    return Final_X"
   ]
  },
  {
   "cell_type": "markdown",
   "metadata": {},
   "source": [
    "## Problem 1,Part 1"
   ]
  },
  {
   "cell_type": "code",
   "execution_count": 372,
   "metadata": {},
   "outputs": [],
   "source": [
    "A = np.array([[4,-3,-1,4,1],\n",
    "             [-1,2,2,1,3]])\n",
    "\n",
    "C = np.array([10,-5,-4,7,1]).reshape(-1,1)\n",
    "\n",
    "b = np.array([1,4]).reshape(-1,1)"
   ]
  },
  {
   "cell_type": "code",
   "execution_count": 373,
   "metadata": {
    "scrolled": false
   },
   "outputs": [
    {
     "name": "stdout",
     "output_type": "stream",
     "text": [
      "For 1th Iteration B :\n",
      " [[ 1 -3]\n",
      " [ 3  2]] \n",
      "\n",
      "For 1th Iteration N :\n",
      " [[-1  4  4]\n",
      " [ 2  1 -1]] \n",
      "\n",
      "For 1th Iteration r :\n",
      " [-5. -7. -8.] \n",
      "\n",
      "For 2th Iteration B :\n",
      " [[ 1 -1]\n",
      " [ 3  2]] \n",
      "\n",
      "For 2th Iteration N :\n",
      " [[-3  4  4]\n",
      " [ 2  1 -1]] \n",
      "\n",
      "For 2th Iteration r :\n",
      " [-2.09090909  1.          3.63636364] \n",
      "\n",
      "For 3th Iteration B :\n",
      " [[ 4 -1]\n",
      " [ 1  2]] \n",
      "\n",
      "For 3th Iteration N :\n",
      " [[-3  1  4]\n",
      " [ 2  3 -1]] \n",
      "\n",
      "For 3th Iteration r :\n",
      " [ 4.6 -3.6 -1.8] \n",
      "\n",
      "Value of X : \n",
      " [[0.        ]\n",
      " [0.        ]\n",
      " [1.66666667]\n",
      " [0.66666667]\n",
      " [0.        ]] \n",
      "\n",
      "Cost : \n",
      " -2.0 \n",
      "\n"
     ]
    }
   ],
   "source": [
    "Initial_col = np.array([0,1])\n",
    "Result = Solver(A,C,b,Initial_col)"
   ]
  },
  {
   "cell_type": "markdown",
   "metadata": {},
   "source": [
    "## Problem 1,Part 2"
   ]
  },
  {
   "cell_type": "code",
   "execution_count": 374,
   "metadata": {},
   "outputs": [],
   "source": [
    "A1 = np.array([[2,3,-2,1,2],\n",
    "               [-2,1,0,2,3]])\n",
    "C1 = np.array([4,2,1,4,-2]).reshape(-1,1)\n",
    "b1 = np.array ([4,2]).reshape(-1,1)"
   ]
  },
  {
   "cell_type": "code",
   "execution_count": 375,
   "metadata": {
    "scrolled": false
   },
   "outputs": [
    {
     "name": "stdout",
     "output_type": "stream",
     "text": [
      "For 1th Iteration B :\n",
      " [[2 3]\n",
      " [3 1]] \n",
      "\n",
      "For 1th Iteration N :\n",
      " [[-2  1  2]\n",
      " [ 0  2 -2]] \n",
      "\n",
      "For 1th Iteration r :\n",
      " [ 3.  5. -1.] \n",
      "\n",
      "For 2th Iteration B :\n",
      " [[ 2  2]\n",
      " [ 3 -2]] \n",
      "\n",
      "For 2th Iteration N :\n",
      " [[-2  1  3]\n",
      " [ 0  2  1]] \n",
      "\n",
      "For 2th Iteration r :\n",
      " [ 3.28571429  5.71428571 -1.14285714] \n",
      "\n",
      "Value of X : \n",
      " [[0.8]\n",
      " [0. ]\n",
      " [0. ]\n",
      " [0. ]\n",
      " [1.2]] \n",
      "\n",
      "Cost : \n",
      " 0.8000000000000003 \n",
      "\n"
     ]
    }
   ],
   "source": [
    "Result1 = Solver(A1,C1,b1,Initial_col)"
   ]
  },
  {
   "cell_type": "markdown",
   "metadata": {},
   "source": [
    "## Problem 2"
   ]
  },
  {
   "cell_type": "markdown",
   "metadata": {},
   "source": [
    "We have five constarint equation, and four of them follow inequalities condition, Therefore we need four slack variable, let's call them $s_1,s_2,s_3,s_4$. Let's define the basic variale as $x_1,x_2,x_3$ for T,A and P. The LP that need to be solved is:<br><br>\n",
    "$$-100x_1 + 0x_2 + 0x_3 + 1s_1 + 0s_2 + 0s_3 + 0s_4 = -5$$<br>\n",
    "$$-2x_1 - 4.8x_2 - 19.7x_3 + 0s_1 + 1s_2 + 0s_3 + 0s_4 = -5.5$$<br>\n",
    "$$ 2x_1 + 4.8x_2 + 19.7x_3 + 0s_1 + 0s_2 + 1s_3 + 0s_4 = 7$$<br>\n",
    "$$-100x_1 - 125x_2 - 125x_3 + 0s_1 + 0s_2 + 0s_3 + 1s_4 = -5$$<br>\n",
    "$$  x_1 +  x_2 +  x_3 + 0s_1 + 0s_2 + 0s_3 + 0s_4 = 1$$<br>\n",
    "\n",
    "where $$ s_1 =  -5 - (-100x_1)$$<br>\n",
    "$$ s_2 =  -5.5 - (-2x_1 - 4.8x_2 - 19.7x_3) $$<br>\n",
    "$$ s_3 =  7 - (2x_1 + 4.8x_2 + 19.7x_3)$$<br>\n",
    "$$ s_4 =  -115 - (-100x_1 - 125x_2 - 125x_3)$$<br>"
   ]
  },
  {
   "cell_type": "code",
   "execution_count": 377,
   "metadata": {},
   "outputs": [
    {
     "name": "stdout",
     "output_type": "stream",
     "text": [
      "For 1th Iteration B :\n",
      " [[-100.     0.     0.     0.     0. ]\n",
      " [  -2.    -4.8  -19.7    0.     1. ]\n",
      " [   2.     4.8   19.7    0.     0. ]\n",
      " [-100.  -125.  -125.     1.     0. ]\n",
      " [   1.     1.     1.     0.     0. ]] \n",
      "\n",
      "For 1th Iteration N :\n",
      " [[0. 1.]\n",
      " [0. 0.]\n",
      " [1. 0.]\n",
      " [0. 0.]\n",
      " [0. 0.]] \n",
      "\n",
      "For 1th Iteration r :\n",
      " [-4.50401138e-16 -6.00000000e-01] \n",
      "\n",
      "For 2th Iteration B :\n",
      " [[-100.     0.     0.     0.     0. ]\n",
      " [  -2.    -4.8  -19.7    0.     0. ]\n",
      " [   2.     4.8   19.7    0.     1. ]\n",
      " [-100.  -125.  -125.     1.     0. ]\n",
      " [   1.     1.     1.     0.     0. ]] \n",
      "\n",
      "For 2th Iteration N :\n",
      " [[0. 1.]\n",
      " [1. 0.]\n",
      " [0. 0.]\n",
      " [0. 0.]\n",
      " [0. 0.]] \n",
      "\n",
      "For 2th Iteration r :\n",
      " [-5.08541755e-17  1.50000000e-01] \n",
      "\n",
      "Value of X : \n",
      " [[0.05      ]\n",
      " [0.89362416]\n",
      " [0.05637584]\n",
      " [0.        ]\n",
      " [0.        ]\n",
      " [1.5       ]\n",
      " [8.75      ]] \n",
      "\n",
      "Cost : \n",
      " 30.75 \n",
      "\n"
     ]
    },
    {
     "name": "stderr",
     "output_type": "stream",
     "text": [
      "C:\\Users\\18503\\AppData\\Local\\Continuum\\anaconda3\\lib\\site-packages\\ipykernel_launcher.py:7: RuntimeWarning: divide by zero encountered in true_divide\n",
      "  import sys\n"
     ]
    }
   ],
   "source": [
    "A3 = np.array([[-100,  0,    0,    1,  0,  0,  0],\n",
    "               [-2.0, -4.8, -19.7, 0,  1,  0,  0],\n",
    "               [ 2.0,  4.8, 19.7, 0,  0,  1,   0],\n",
    "               [-100, -125, -125,  0,  0,  0,  1],\n",
    "               [ 1,    1,    1,    0,  0,  0,  0]])\n",
    "\n",
    "C3 = np.array( [45,    30,   30,   0,  0,  0,  0]).reshape(-1,1)\n",
    "\n",
    "b3 = np.array ([-5,-5.5,7,-115,1]).reshape(-1,1)\n",
    "\n",
    "Initial_col = np.array([0,1,2,3,4])\n",
    "Result3 = Solver(A3,C3,b3,Initial_col)"
   ]
  }
 ],
 "metadata": {
  "kernelspec": {
   "display_name": "Python 3",
   "language": "python",
   "name": "python3"
  },
  "language_info": {
   "codemirror_mode": {
    "name": "ipython",
    "version": 3
   },
   "file_extension": ".py",
   "mimetype": "text/x-python",
   "name": "python",
   "nbconvert_exporter": "python",
   "pygments_lexer": "ipython3",
   "version": "3.7.3"
  }
 },
 "nbformat": 4,
 "nbformat_minor": 2
}
