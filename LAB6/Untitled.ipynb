{
 "cells": [
  {
   "cell_type": "code",
   "execution_count": 199,
   "metadata": {},
   "outputs": [],
   "source": [
    "import numpy as np"
   ]
  },
  {
   "cell_type": "markdown",
   "metadata": {},
   "source": [
    "## Problem 1"
   ]
  },
  {
   "cell_type": "code",
   "execution_count": 200,
   "metadata": {},
   "outputs": [],
   "source": [
    "with open('a_example.txt') as f:\n",
    "    lines = list((line for line in f))"
   ]
  },
  {
   "cell_type": "code",
   "execution_count": 201,
   "metadata": {},
   "outputs": [
    {
     "data": {
      "text/plain": [
       "['6 2 7\\n', '1 2 3 6 5 4\\n', '5 2 2\\n', '0 1 2 3 4\\n', '4 3 1\\n', '0 2 3 5\\n']"
      ]
     },
     "execution_count": 201,
     "metadata": {},
     "output_type": "execute_result"
    }
   ],
   "source": [
    "lines"
   ]
  },
  {
   "cell_type": "code",
   "execution_count": 202,
   "metadata": {},
   "outputs": [
    {
     "data": {
      "text/plain": [
       "6"
      ]
     },
     "execution_count": 202,
     "metadata": {},
     "output_type": "execute_result"
    }
   ],
   "source": [
    "len(lines)"
   ]
  },
  {
   "cell_type": "code",
   "execution_count": 203,
   "metadata": {},
   "outputs": [],
   "source": [
    "for index,value in enumerate(lines):\n",
    "    parts = np.array(value.strip().split(' ')).astype(int)\n",
    "    if(index==0):\n",
    "        B,L,D = parts\n",
    "        Lib = {i: {} for i in range(int(L))} \n",
    "    elif(index == 1):\n",
    "        Scores = parts\n",
    "    \n",
    "    if(index> 0  and index%2==0):\n",
    "        Lib[(index/2) - 1] = {\"N\":parts[0],\"T\":parts[1],\"M\":parts[2],\"ID\":np.array([0]*(parts[0])),\"check\":0,\"which\":0,\n",
    "                             \"ID_score\":0}\n",
    "    if(index > 1 and index%2==1):\n",
    "        Lib[(index-1)/2 - 1][\"ID\"] = np.sort(parts)[::-1]\n",
    "       # temp = [(element,Scores[element]) for element in Lib[(index-1)/2-1][\"ID\"]]\n",
    "        Lib[(index-1)/2 - 1][\"ID_score\"] = [Scores[element] for element in Lib[(index-1)/2-1][\"ID\"]]"
   ]
  },
  {
   "cell_type": "code",
   "execution_count": 204,
   "metadata": {
    "scrolled": false
   },
   "outputs": [
    {
     "data": {
      "text/plain": [
       "array([1, 2, 3, 6, 5, 4])"
      ]
     },
     "execution_count": 204,
     "metadata": {},
     "output_type": "execute_result"
    }
   ],
   "source": [
    "Scores"
   ]
  },
  {
   "cell_type": "code",
   "execution_count": null,
   "metadata": {},
   "outputs": [],
   "source": []
  },
  {
   "cell_type": "code",
   "execution_count": null,
   "metadata": {},
   "outputs": [],
   "source": []
  },
  {
   "cell_type": "code",
   "execution_count": 205,
   "metadata": {},
   "outputs": [
    {
     "data": {
      "text/plain": [
       "{0: {'N': 5,\n",
       "  'T': 2,\n",
       "  'M': 2,\n",
       "  'ID': array([4, 3, 2, 1, 0]),\n",
       "  'check': 0,\n",
       "  'which': 0,\n",
       "  'ID_score': [5, 6, 3, 2, 1]},\n",
       " 1: {'N': 4,\n",
       "  'T': 3,\n",
       "  'M': 1,\n",
       "  'ID': array([5, 3, 2, 0]),\n",
       "  'check': 0,\n",
       "  'which': 0,\n",
       "  'ID_score': [4, 6, 3, 1]}}"
      ]
     },
     "execution_count": 205,
     "metadata": {},
     "output_type": "execute_result"
    }
   ],
   "source": [
    "Lib"
   ]
  },
  {
   "cell_type": "markdown",
   "metadata": {},
   "source": [
    "## To initalize"
   ]
  },
  {
   "cell_type": "code",
   "execution_count": 206,
   "metadata": {},
   "outputs": [],
   "source": [
    "def select_lib():    \n",
    "        temp = []\n",
    "        for i in range(len(Lib)): \n",
    "            if((D - Lib[i][\"T\"]) > 0):\n",
    "                #print(D)\n",
    "                No_of_books_send = Lib[i][\"M\"]*(D - Lib[i][\"T\"])\n",
    "                if(No_of_books_send > Lib[i][\"N\"]):\n",
    "                    temp.append(np.sum(Lib[i][\"ID\"]))\n",
    "                else:\n",
    "                    temp.append(np.sum(Lib[i][\"ID\"][:No_of_books_send]))\n",
    "\n",
    "        temp = np.array(temp)\n",
    "        chose_lib = np.argsort(temp)[0]\n",
    "        return chose_lib,No_of_books_send"
   ]
  },
  {
   "cell_type": "code",
   "execution_count": 207,
   "metadata": {},
   "outputs": [],
   "source": [
    "l,n = select_lib()"
   ]
  },
  {
   "cell_type": "code",
   "execution_count": 208,
   "metadata": {},
   "outputs": [
    {
     "data": {
      "text/plain": [
       "(0, 4)"
      ]
     },
     "execution_count": 208,
     "metadata": {},
     "output_type": "execute_result"
    }
   ],
   "source": [
    "l,n"
   ]
  },
  {
   "cell_type": "code",
   "execution_count": 209,
   "metadata": {},
   "outputs": [],
   "source": [
    "SUM = np.sum(Lib[l][\"ID_score\"][:n+1])"
   ]
  },
  {
   "cell_type": "code",
   "execution_count": 210,
   "metadata": {},
   "outputs": [
    {
     "data": {
      "text/plain": [
       "{0: {'N': 5,\n",
       "  'T': 2,\n",
       "  'M': 2,\n",
       "  'ID': array([4, 3, 2, 1, 0]),\n",
       "  'check': 0,\n",
       "  'which': 0,\n",
       "  'ID_score': [5, 6, 3, 2, 1]},\n",
       " 1: {'N': 4,\n",
       "  'T': 3,\n",
       "  'M': 1,\n",
       "  'ID': array([5, 3, 2, 0]),\n",
       "  'check': 0,\n",
       "  'which': 0,\n",
       "  'ID_score': [4, 6, 3, 1]}}"
      ]
     },
     "execution_count": 210,
     "metadata": {},
     "output_type": "execute_result"
    }
   ],
   "source": [
    "Lib"
   ]
  },
  {
   "cell_type": "code",
   "execution_count": 211,
   "metadata": {},
   "outputs": [],
   "source": [
    "def del_books(Lib,l,n):\n",
    "    Books_to_delet = Lib[l][\"ID\"][:n+1]\n",
    "    print(Books_to_delet)\n",
    "    for i in range(len(Lib)):\n",
    "        Lib[i][\"ID\"] = np.delete(Lib[i][\"ID\"],Books_to_delet)\n",
    "    return Lib"
   ]
  },
  {
   "cell_type": "code",
   "execution_count": 212,
   "metadata": {},
   "outputs": [
    {
     "name": "stdout",
     "output_type": "stream",
     "text": [
      "[4 3 2 1 0]\n"
     ]
    },
    {
     "name": "stderr",
     "output_type": "stream",
     "text": [
      "C:\\Users\\18503\\AppData\\Local\\Continuum\\anaconda3\\lib\\site-packages\\ipykernel_launcher.py:5: DeprecationWarning: in the future out of bounds indices will raise an error instead of being ignored by `numpy.delete`.\n",
      "  \"\"\"\n"
     ]
    },
    {
     "data": {
      "text/plain": [
       "{0: {'N': 5,\n",
       "  'T': 2,\n",
       "  'M': 2,\n",
       "  'ID': array([], dtype=int32),\n",
       "  'check': 0,\n",
       "  'which': 0,\n",
       "  'ID_score': [5, 6, 3, 2, 1]},\n",
       " 1: {'N': 4,\n",
       "  'T': 3,\n",
       "  'M': 1,\n",
       "  'ID': array([], dtype=int32),\n",
       "  'check': 0,\n",
       "  'which': 0,\n",
       "  'ID_score': [4, 6, 3, 1]}}"
      ]
     },
     "execution_count": 212,
     "metadata": {},
     "output_type": "execute_result"
    }
   ],
   "source": [
    "del_books(Lib,l,n)"
   ]
  },
  {
   "cell_type": "code",
   "execution_count": null,
   "metadata": {},
   "outputs": [],
   "source": []
  },
  {
   "cell_type": "markdown",
   "metadata": {},
   "source": [
    "## Output"
   ]
  },
  {
   "cell_type": "code",
   "execution_count": 233,
   "metadata": {},
   "outputs": [],
   "source": [
    "a = [1]\n",
    "b = [2, 3]\n",
    "c = [2, 4, 5]\n",
    "d = [1,2, 4, 4]  "
   ]
  },
  {
   "cell_type": "code",
   "execution_count": 234,
   "metadata": {},
   "outputs": [
    {
     "ename": "TypeError",
     "evalue": "Mismatch between array dtype ('object') and format specifier ('%.18e')",
     "output_type": "error",
     "traceback": [
      "\u001b[1;31m---------------------------------------------------------------------------\u001b[0m",
      "\u001b[1;31mTypeError\u001b[0m                                 Traceback (most recent call last)",
      "\u001b[1;32m~\\AppData\\Local\\Continuum\\anaconda3\\lib\\site-packages\\numpy\\lib\\npyio.py\u001b[0m in \u001b[0;36msavetxt\u001b[1;34m(fname, X, fmt, delimiter, newline, header, footer, comments, encoding)\u001b[0m\n\u001b[0;32m   1428\u001b[0m                 \u001b[1;32mtry\u001b[0m\u001b[1;33m:\u001b[0m\u001b[1;33m\u001b[0m\u001b[1;33m\u001b[0m\u001b[0m\n\u001b[1;32m-> 1429\u001b[1;33m                     \u001b[0mv\u001b[0m \u001b[1;33m=\u001b[0m \u001b[0mformat\u001b[0m \u001b[1;33m%\u001b[0m \u001b[0mtuple\u001b[0m\u001b[1;33m(\u001b[0m\u001b[0mrow\u001b[0m\u001b[1;33m)\u001b[0m \u001b[1;33m+\u001b[0m \u001b[0mnewline\u001b[0m\u001b[1;33m\u001b[0m\u001b[1;33m\u001b[0m\u001b[0m\n\u001b[0m\u001b[0;32m   1430\u001b[0m                 \u001b[1;32mexcept\u001b[0m \u001b[0mTypeError\u001b[0m\u001b[1;33m:\u001b[0m\u001b[1;33m\u001b[0m\u001b[1;33m\u001b[0m\u001b[0m\n",
      "\u001b[1;31mTypeError\u001b[0m: must be real number, not list",
      "\nDuring handling of the above exception, another exception occurred:\n",
      "\u001b[1;31mTypeError\u001b[0m                                 Traceback (most recent call last)",
      "\u001b[1;32m<ipython-input-234-4409f5f93f0a>\u001b[0m in \u001b[0;36m<module>\u001b[1;34m\u001b[0m\n\u001b[1;32m----> 1\u001b[1;33m \u001b[0mnp\u001b[0m\u001b[1;33m.\u001b[0m\u001b[0msavetxt\u001b[0m\u001b[1;33m(\u001b[0m\u001b[1;34m'out.txt'\u001b[0m\u001b[1;33m,\u001b[0m\u001b[0mres\u001b[0m\u001b[1;33m)\u001b[0m\u001b[1;33m\u001b[0m\u001b[1;33m\u001b[0m\u001b[0m\n\u001b[0m",
      "\u001b[1;32m~\\AppData\\Local\\Continuum\\anaconda3\\lib\\site-packages\\numpy\\lib\\npyio.py\u001b[0m in \u001b[0;36msavetxt\u001b[1;34m(fname, X, fmt, delimiter, newline, header, footer, comments, encoding)\u001b[0m\n\u001b[0;32m   1431\u001b[0m                     raise TypeError(\"Mismatch between array dtype ('%s') and \"\n\u001b[0;32m   1432\u001b[0m                                     \u001b[1;34m\"format specifier ('%s')\"\u001b[0m\u001b[1;33m\u001b[0m\u001b[1;33m\u001b[0m\u001b[0m\n\u001b[1;32m-> 1433\u001b[1;33m                                     % (str(X.dtype), format))\n\u001b[0m\u001b[0;32m   1434\u001b[0m                 \u001b[0mfh\u001b[0m\u001b[1;33m.\u001b[0m\u001b[0mwrite\u001b[0m\u001b[1;33m(\u001b[0m\u001b[0mv\u001b[0m\u001b[1;33m)\u001b[0m\u001b[1;33m\u001b[0m\u001b[1;33m\u001b[0m\u001b[0m\n\u001b[0;32m   1435\u001b[0m \u001b[1;33m\u001b[0m\u001b[0m\n",
      "\u001b[1;31mTypeError\u001b[0m: Mismatch between array dtype ('object') and format specifier ('%.18e')"
     ]
    }
   ],
   "source": [
    "np.savetxt('out.txt',res)"
   ]
  },
  {
   "cell_type": "code",
   "execution_count": 221,
   "metadata": {},
   "outputs": [],
   "source": []
  },
  {
   "cell_type": "code",
   "execution_count": 223,
   "metadata": {},
   "outputs": [],
   "source": []
  },
  {
   "cell_type": "code",
   "execution_count": 224,
   "metadata": {},
   "outputs": [],
   "source": []
  },
  {
   "cell_type": "code",
   "execution_count": null,
   "metadata": {},
   "outputs": [],
   "source": []
  },
  {
   "cell_type": "code",
   "execution_count": null,
   "metadata": {},
   "outputs": [],
   "source": []
  },
  {
   "cell_type": "code",
   "execution_count": null,
   "metadata": {},
   "outputs": [],
   "source": []
  }
 ],
 "metadata": {
  "kernelspec": {
   "display_name": "Python 3",
   "language": "python",
   "name": "python3"
  },
  "language_info": {
   "codemirror_mode": {
    "name": "ipython",
    "version": 3
   },
   "file_extension": ".py",
   "mimetype": "text/x-python",
   "name": "python",
   "nbconvert_exporter": "python",
   "pygments_lexer": "ipython3",
   "version": "3.7.3"
  }
 },
 "nbformat": 4,
 "nbformat_minor": 2
}
